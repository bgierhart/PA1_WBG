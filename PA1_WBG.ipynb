{
 "cells": [
  {
   "cell_type": "markdown",
   "id": "0462ad73-bf9c-4357-8fe7-b1131cd7d9d7",
   "metadata": {},
   "source": [
    "### PA1_WBG\n",
    "---\n",
    "**Author:** Ben Gierhart  \n",
    "**Version:** 1.0  \n",
    "**Semester:** Spring 2024 \n",
    "\n",
    "This *notebook* contains my solution(s) to **PA1_WBG**"
   ]
  },
  {
   "cell_type": "markdown",
   "id": "54d2efa6-d4cd-4ac8-bac8-54a2143bf9c5",
   "metadata": {},
   "source": [
    "### Problem 1 — Manipulating Numbers"
   ]
  },
  {
   "cell_type": "code",
   "execution_count": 4,
   "id": "9fac35c9-e45e-4371-be68-614c38ebd0d9",
   "metadata": {},
   "outputs": [
    {
     "name": "stdin",
     "output_type": "stream",
     "text": [
      "Enter a floating point number. 44.3\n"
     ]
    }
   ],
   "source": [
    "N_1 = float(input(\"Enter a floating point number.\"))"
   ]
  },
  {
   "cell_type": "code",
   "execution_count": 5,
   "id": "85898795-0f2b-4483-8168-bdf935ad5a6c",
   "metadata": {},
   "outputs": [
    {
     "name": "stdin",
     "output_type": "stream",
     "text": [
      "Enter an integer. 16\n"
     ]
    }
   ],
   "source": [
    "N_2 = int(input(\"Enter an integer.\"))"
   ]
  },
  {
   "cell_type": "code",
   "execution_count": 37,
   "id": "dbb462de-3ade-4305-80d6-ad83ef178bf6",
   "metadata": {},
   "outputs": [
    {
     "name": "stdout",
     "output_type": "stream",
     "text": [
      "The sum is 60.300.\n"
     ]
    }
   ],
   "source": [
    "RESULT = float(N_1 + N_2)\n",
    "print(f\"The sum is{RESULT: .3f}.\")"
   ]
  },
  {
   "cell_type": "code",
   "execution_count": 34,
   "id": "df2cb447-9a58-4ef7-b7e8-e63338bef4f9",
   "metadata": {},
   "outputs": [
    {
     "name": "stdout",
     "output_type": "stream",
     "text": [
      "The difference is 28.300.\n"
     ]
    }
   ],
   "source": [
    "RESULT = float(N_1 - N_2)\n",
    "print(f\"The difference is{RESULT: .3f}.\")"
   ]
  },
  {
   "cell_type": "code",
   "execution_count": 33,
   "id": "0da5b8c1-fdcd-4174-b41f-87f89684d8d6",
   "metadata": {},
   "outputs": [
    {
     "name": "stdout",
     "output_type": "stream",
     "text": [
      "The product is 708.800.\n"
     ]
    }
   ],
   "source": [
    "RESULT = float(N_1 * N_2)\n",
    "print(f\"The product is{RESULT: .3f}.\")"
   ]
  },
  {
   "cell_type": "code",
   "execution_count": 32,
   "id": "8968bc04-3702-4cb4-be1a-354cf436be55",
   "metadata": {},
   "outputs": [
    {
     "name": "stdout",
     "output_type": "stream",
     "text": [
      "The quotient is 2.769.\n"
     ]
    }
   ],
   "source": [
    "RESULT = float(N_1 / N_2)\n",
    "print(f\"The quotient is{RESULT: .3f}.\")"
   ]
  },
  {
   "cell_type": "code",
   "execution_count": 38,
   "id": "3ec4d6d6-d9dd-4456-9c72-1a6f2bfe4105",
   "metadata": {},
   "outputs": [
    {
     "data": {
      "text/plain": [
       "float"
      ]
     },
     "execution_count": 38,
     "metadata": {},
     "output_type": "execute_result"
    }
   ],
   "source": [
    "type(RESULT)"
   ]
  },
  {
   "cell_type": "markdown",
   "id": "f020746f-1e7a-4e58-a8d5-ae1b8d40f5aa",
   "metadata": {},
   "source": [
    "### Problem 2 – Calculating Target Heart Rate"
   ]
  },
  {
   "cell_type": "code",
   "execution_count": 41,
   "id": "b67319b0-8aad-4812-8192-dbf83e240d0c",
   "metadata": {},
   "outputs": [
    {
     "name": "stdin",
     "output_type": "stream",
     "text": [
      "What is your age in years? 35\n"
     ]
    }
   ],
   "source": [
    "AGE = int(input(\"What is your age in years?\"))"
   ]
  },
  {
   "cell_type": "code",
   "execution_count": 45,
   "id": "2dcd8ca6-aade-40c6-af98-efa3e3272d5e",
   "metadata": {},
   "outputs": [],
   "source": [
    "MAXHR = 220 - AGE\n",
    "MAXHR_EXERCISE = MAXHR * 0.85\n",
    "MINHR_EXERCISE = MAXHR * 0.50"
   ]
  },
  {
   "cell_type": "code",
   "execution_count": 50,
   "id": "32ef6d40-df9e-4edc-9541-7a6fd23ee9e0",
   "metadata": {},
   "outputs": [
    {
     "name": "stdout",
     "output_type": "stream",
     "text": [
      "Your maximum heart rate is 185 bpm.\n",
      "Your maximum heart rate for exercise is 157.25 bpm.\n",
      "Your minimum heart rate for exercise is 92.5 bpm.\n"
     ]
    }
   ],
   "source": [
    "print(\"Your maximum heart rate is \" + str(MAXHR) + \" bpm.\")\n",
    "print(\"Your maximum heart rate for exercise is \" + str(MAXHR_EXERCISE) + \" bpm.\")\n",
    "print(\"Your minimum heart rate for exercise is \" + str(MINHR_EXERCISE) + \" bpm.\")"
   ]
  },
  {
   "cell_type": "code",
   "execution_count": null,
   "id": "1e273f1b-c0b1-447e-827e-0ba770c0f096",
   "metadata": {},
   "outputs": [],
   "source": []
  }
 ],
 "metadata": {
  "kernelspec": {
   "display_name": "Python 3 (ipykernel)",
   "language": "python",
   "name": "python3"
  },
  "language_info": {
   "codemirror_mode": {
    "name": "ipython",
    "version": 3
   },
   "file_extension": ".py",
   "mimetype": "text/x-python",
   "name": "python",
   "nbconvert_exporter": "python",
   "pygments_lexer": "ipython3",
   "version": "3.11.7"
  }
 },
 "nbformat": 4,
 "nbformat_minor": 5
}
